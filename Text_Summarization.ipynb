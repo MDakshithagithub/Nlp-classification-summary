{
  "nbformat": 4,
  "nbformat_minor": 0,
  "metadata": {
    "colab": {
      "provenance": [],
      "collapsed_sections": []
    },
    "kernelspec": {
      "name": "python3",
      "display_name": "Python 3"
    },
    "language_info": {
      "name": "python"
    }
  },
  "cells": [
    {
      "cell_type": "markdown",
      "source": [
        "**Text Summarization using TextRank algorithm for health.txt**\n",
        "\n"
      ],
      "metadata": {
        "id": "9PyRYgfAao8N"
      }
    },
    {
      "cell_type": "code",
      "source": [
        "with open('health.txt', 'r') as file:\n",
        "    data = file.read().rstrip()\n",
        "import gensim\n",
        "from gensim.summarization import summarize\n",
        "short_summary = summarize(data)\n",
        "print(short_summary)    "
      ],
      "metadata": {
        "colab": {
          "base_uri": "https://localhost:8080/"
        },
        "id": "J35sl_b-JuDS",
        "outputId": "c312ec96-b6f6-4502-e2cf-63b54ebf2025"
      },
      "execution_count": null,
      "outputs": [
        {
          "output_type": "stream",
          "name": "stdout",
          "text": [
            "the first demands the ability to share health information between and among various internal and external providers patients and their designated caregivers\n",
            "second there needs to be data integration from clinical administrative financial and patient derived sources\n",
            "most health care organizations have a lot of work to do in order to achieve all of this\n",
            "earlier in her post dr bell says that quote the promise of accountable care is tempered by a dearth of experience with care process redesign and culture change and of knowledge about the health information technology infrastructure necessary to optimally support healthcare transformation end quote\n",
            "to summarize the need for health it to support new care and payment models is clear but we still have a long way to go to develop and properly use those systems\n",
            "because the centers of my areas of expertise are how people respond to incentives and use information in making decisions and how one can design mechanisms to help them improve the decisions that they make\n",
            "where my team at the experimental economic center comes in is to start with a large sample of the identified patient records do an analysis of that data to try and find the predictors of unsuccessful and successful discharge from the hospital and then build on that a clinical decision support system with user friendly displays that can aid the physicians in making better decisions\n",
            "in fact i worked in an early example of the pcmh where i oversaw the development of one of the first electronic medical records systems starting around 1970\n",
            "the acp describes the pcmh as a care delivery model whereby patient treatment is coordinated through their primary care physician to ensure they receive the necessary care when and where they need it in a manner they can understand\n",
            "care is facilitated by registries information technology health information exchange and other means to assure that patients get the indicated care when and where they need and want it in a culturally and linguistically appropriate manner\n",
            "note again in this graphic from the aafp the emphasis is on providing all needed care and using information technology to manage that\n",
            "this 2013 kaiser family foundation data shows that uninsured people receive substantially less healthcare than the insured\n",
            "kaiser family foundation goes on to say that insured and uninsured people who are injured or newly diagnosed with a chronic condition such as diabetes or hypertension receive similar plans for followup care from their physician\n",
            "finally because the uninsured are less likely to have regular outpatient care they are more likely to end up with expensive hospitalizations for avoidable health problems and to experienced declines in their overall health\n",
            "and as part of the patient protection affordable care act section 1324 which is the readmission reduction act was signed into law which penalizes hospitals that have access readmission rates over whats expected\n",
            "and so this has become a substantial problem and generated substantial focus for hospitals around the country to reduce their readmission rates and improve outcomes for their patients\n",
            "and so our doctors are incentivized to reduce costs and move patients through the hospital care segment\n",
            "and so we felt that the tool that brought information to bear that help providers make timely decisions that were more effective and reduce readmission rates really could make a huge difference in the outcomes for patients but also decrease costs for health care system\n",
            "and we looked at readmissions in those patients and with the help of the economists working at georgia state built a predictive model that helped us with more likely predicting one it was the appropriate time to send a patient home from the hospital\n",
            "we actually showed that this tool does have benefit and we think that in the true clinical setting would lead to reduce readmissions decreased like this day and improve outcomes overall for our patients\n",
            "the big issue for us now is as weve put a considerable amount of work into developing what we think is something that could have some significant benefit at the bedside as how to be able to integrate an electronic record with this decision support tool and really firers the mechanism for doing that\n",
            "its the opportunity thats going to allow us to bring to bear what weve spent a lot of time working on and what we think is going to make a difference for patients\n",
            "as you can see here the iom has identified sources of waste and says that in aggregate they account for around 30 of all us health care spending\n",
            "this refers to poor execution or failure to adopt best practices such as for effective preventive care or patient safety\n",
            "earlier we said that while the us excels in high technology care our overall health care quality efficiency and safety results are poor\n",
            "patients with multiple chronic diseases account disproportionately for those costs\n",
            "while current health care financing and delivery systems were designed primarily to treat acute conditions 78 of health spending is devoted to people with chronic conditions\n",
            "quality medical care for people with chronic conditions requires a new orientation toward prevention of chronic disease and provision of ongoing care in care management to maintain their health status and functioning\n",
            "the paper then goes on to describe the care of those patients saying quote while the average medicare beneficiary sees between six and seven different physicians beneficiaries with five or more chronic conditions see almost 14 different physicians in a year an average 37 physician visits annually\n",
            "so far weve talked mostly about the role of health informatics to improve the delivery of care\n",
            "what about its role in ensuring we deliver the right care to every patient every time\n",
            "it recognizes that we are entering a new era of medical science that offers the prospect of personalized health care\n",
            "it also recognizes that physicians and patients must deal with an increasingly complex array of health care options and decisions and they need help to choose wisely\n",
            "to achieve that years ago iom called for a learning health care system\n",
            "that it describes as a sustainable system that gets the right care for people when they need it and then captures the results for further improvement\n",
            "kaiser agrees to provide all needed care for a fixed amount per year\n",
            "the financial relationship between the insurance companies and the hospital was efficient and allowed garfield to focus on a new idea preventative health care\n",
            "when the health care economic model provides the right incentives the focus shifts to preventive care in order to avoid costs\n",
            "kaiser is also a leader in care coordination and population health two key strategies for managing chronic disease that well discuss later on\n",
            "himss is a large notforprofit organization focused on better health through information technology\n",
            "a care models that work best for chronic disease rest on the use of information technology\n",
            "in the early 1960s the federal government created two major new health insurance programs medicare for citizens over 65 and medicaid primarily for the poor and those with certain disabilities\n",
            "until quite recently most payments for health care services were pay for procedures where in simple terms individual providers and hospitals are paid on the basis of how much care they deliver\n",
            "the details are complex but the basic idea is to create a financial model under which existing community providers can organize and deliver care in a way that improves the quality and lowers the cost of care by fostering greater accountability on the part of the providers for their performance\n",
            "years ago he gave me the data for this graphic that shows that the us has the lowest mortality rates for high technology medicine the kind of care you need after a heart attack or major trauma\n",
            "next were going to travel all the way to baltimore to the johns hopkins bloomberg school of public health to speak with dr gerard anderson a professor there and the first author of the paper i cite more than any other during this course the rising tide of chronic disease in america\n",
            "that starts with prevention but it goes to care and cure for these chronic conditions and there were making a lot less progress\n",
            "well here in the last few years weve tried to make the healthcare industry adopt health it and weve tried to create health information exchanges\n",
            "and so the challenge is how can we get that information out to the physician in a timely fashion for that complex patient\n",
            "are you optimistic that thats actually going to happen in this endlessly complex adaptive health care system\n",
            "and i said it is going to take us 50 years to reorient the healthcare system around chronic disease\n",
            "we dont have the financing and so right now there isnt a real strong incentive for hospitals and doctors to really go after these people to take care of them in an effective way\n",
            "and i remember going to meetings and they would say well heres where we are and if these trends continue and we dont do anything by right about now health care will be consuming 20 of the gross domestic product a number thats absolutely not sustainable\n",
            "well when i started working and trying to control health care costs in the 1970s i said well never be able to sustain 10 of gdp on healthcare now its close to 20\n",
            "this map shows that other than the us virtually all developed nations have universal health care that covers everyone\n",
            "as shown in this graphic there are at least three key informatics challenges to overcome in order to achieve a learning health care system\n",
            "fire apps offer the prospect of solving the problem of timely and useful presentation of the results of the new knowledge gleaned from analysis of past care to busy physicians\n",
            "if providers have an incentive to get it right and do that efficiently then theyll be interested in creating a learning health care system because they can more clearly see how they benefit from it\n",
            "many georgia tech students come to this course with little background in the health care delivery system\n",
            "health informatics the focus of this course is the application of information technology to that delivery system\n",
            "i believe you need at least a basic grounding to appreciate the nature of the system and the key roles health informatics can play in solving its problems\n",
            "these are just a few of the potential informatics benefits to health care delivery\n",
            "as youll see now that most hospitals and around half of all providers have adopted electronic record systems data sharing and interoperability is now the focus\n"
          ]
        }
      ]
    },
    {
      "cell_type": "code",
      "source": [
        "summary_by_ratio=summarize(data,ratio=0.1)\n",
        "print(summary_by_ratio)"
      ],
      "metadata": {
        "colab": {
          "base_uri": "https://localhost:8080/"
        },
        "id": "rysU1JIHK9_7",
        "outputId": "ceea2edf-cc1f-493f-ef99-60f6ea465202"
      },
      "execution_count": null,
      "outputs": [
        {
          "output_type": "stream",
          "name": "stdout",
          "text": [
            "the first demands the ability to share health information between and among various internal and external providers patients and their designated caregivers\n",
            "earlier in her post dr bell says that quote the promise of accountable care is tempered by a dearth of experience with care process redesign and culture change and of knowledge about the health information technology infrastructure necessary to optimally support healthcare transformation end quote\n",
            "to summarize the need for health it to support new care and payment models is clear but we still have a long way to go to develop and properly use those systems\n",
            "where my team at the experimental economic center comes in is to start with a large sample of the identified patient records do an analysis of that data to try and find the predictors of unsuccessful and successful discharge from the hospital and then build on that a clinical decision support system with user friendly displays that can aid the physicians in making better decisions\n",
            "the acp describes the pcmh as a care delivery model whereby patient treatment is coordinated through their primary care physician to ensure they receive the necessary care when and where they need it in a manner they can understand\n",
            "care is facilitated by registries information technology health information exchange and other means to assure that patients get the indicated care when and where they need and want it in a culturally and linguistically appropriate manner\n",
            "this 2013 kaiser family foundation data shows that uninsured people receive substantially less healthcare than the insured\n",
            "kaiser family foundation goes on to say that insured and uninsured people who are injured or newly diagnosed with a chronic condition such as diabetes or hypertension receive similar plans for followup care from their physician\n",
            "and so this has become a substantial problem and generated substantial focus for hospitals around the country to reduce their readmission rates and improve outcomes for their patients\n",
            "and so our doctors are incentivized to reduce costs and move patients through the hospital care segment\n",
            "and so we felt that the tool that brought information to bear that help providers make timely decisions that were more effective and reduce readmission rates really could make a huge difference in the outcomes for patients but also decrease costs for health care system\n",
            "and we looked at readmissions in those patients and with the help of the economists working at georgia state built a predictive model that helped us with more likely predicting one it was the appropriate time to send a patient home from the hospital\n",
            "we actually showed that this tool does have benefit and we think that in the true clinical setting would lead to reduce readmissions decreased like this day and improve outcomes overall for our patients\n",
            "its the opportunity thats going to allow us to bring to bear what weve spent a lot of time working on and what we think is going to make a difference for patients\n",
            "while current health care financing and delivery systems were designed primarily to treat acute conditions 78 of health spending is devoted to people with chronic conditions\n",
            "quality medical care for people with chronic conditions requires a new orientation toward prevention of chronic disease and provision of ongoing care in care management to maintain their health status and functioning\n",
            "the paper then goes on to describe the care of those patients saying quote while the average medicare beneficiary sees between six and seven different physicians beneficiaries with five or more chronic conditions see almost 14 different physicians in a year an average 37 physician visits annually\n",
            "so far weve talked mostly about the role of health informatics to improve the delivery of care\n",
            "it also recognizes that physicians and patients must deal with an increasingly complex array of health care options and decisions and they need help to choose wisely\n",
            "the financial relationship between the insurance companies and the hospital was efficient and allowed garfield to focus on a new idea preventative health care\n",
            "when the health care economic model provides the right incentives the focus shifts to preventive care in order to avoid costs\n",
            "kaiser is also a leader in care coordination and population health two key strategies for managing chronic disease that well discuss later on\n",
            "a care models that work best for chronic disease rest on the use of information technology\n",
            "years ago he gave me the data for this graphic that shows that the us has the lowest mortality rates for high technology medicine the kind of care you need after a heart attack or major trauma\n",
            "next were going to travel all the way to baltimore to the johns hopkins bloomberg school of public health to speak with dr gerard anderson a professor there and the first author of the paper i cite more than any other during this course the rising tide of chronic disease in america\n",
            "and so the challenge is how can we get that information out to the physician in a timely fashion for that complex patient\n",
            "are you optimistic that thats actually going to happen in this endlessly complex adaptive health care system\n",
            "we dont have the financing and so right now there isnt a real strong incentive for hospitals and doctors to really go after these people to take care of them in an effective way\n",
            "well when i started working and trying to control health care costs in the 1970s i said well never be able to sustain 10 of gdp on healthcare now its close to 20\n",
            "if providers have an incentive to get it right and do that efficiently then theyll be interested in creating a learning health care system because they can more clearly see how they benefit from it\n",
            "these are just a few of the potential informatics benefits to health care delivery\n"
          ]
        }
      ]
    },
    {
      "cell_type": "code",
      "source": [
        "summary_by_word_count=summarize(data,word_count=50)\n",
        "print(summary_by_word_count)"
      ],
      "metadata": {
        "colab": {
          "base_uri": "https://localhost:8080/"
        },
        "id": "KenIUCgTLVnh",
        "outputId": "447dae2d-1f41-42a6-c437-ebb3737066f3"
      },
      "execution_count": null,
      "outputs": [
        {
          "output_type": "stream",
          "name": "stdout",
          "text": [
            "where my team at the experimental economic center comes in is to start with a large sample of the identified patient records do an analysis of that data to try and find the predictors of unsuccessful and successful discharge from the hospital and then build on that a clinical decision support system with user friendly displays that can aid the physicians in making better decisions\n"
          ]
        }
      ]
    },
    {
      "cell_type": "code",
      "source": [
        "summary=summarize(data, ratio=0.1, word_count=100)\n",
        "print(summary)"
      ],
      "metadata": {
        "colab": {
          "base_uri": "https://localhost:8080/"
        },
        "id": "dVWaAHNHLd7g",
        "outputId": "299df14b-4fb6-44fc-d80e-ce0a284af3ec"
      },
      "execution_count": null,
      "outputs": [
        {
          "output_type": "stream",
          "name": "stdout",
          "text": [
            "where my team at the experimental economic center comes in is to start with a large sample of the identified patient records do an analysis of that data to try and find the predictors of unsuccessful and successful discharge from the hospital and then build on that a clinical decision support system with user friendly displays that can aid the physicians in making better decisions\n",
            "and so we felt that the tool that brought information to bear that help providers make timely decisions that were more effective and reduce readmission rates really could make a huge difference in the outcomes for patients but also decrease costs for health care system\n"
          ]
        }
      ]
    },
    {
      "cell_type": "markdown",
      "source": [
        "**Text Summarization with Sumy for news.txt**"
      ],
      "metadata": {
        "id": "2vgPCALAbCEJ"
      }
    },
    {
      "cell_type": "code",
      "source": [
        "from sumy.parsers.plaintext import PlaintextParser\n",
        "from sumy.nlp.tokenizers import Tokenizer"
      ],
      "metadata": {
        "id": "B-nXtyTbMx3s"
      },
      "execution_count": null,
      "outputs": []
    },
    {
      "cell_type": "code",
      "source": [
        "from sumy.summarizers.lex_rank import LexRankSummarizer"
      ],
      "metadata": {
        "id": "HJD5MZ-jNBvD"
      },
      "execution_count": null,
      "outputs": []
    },
    {
      "cell_type": "code",
      "source": [
        "with open('news.txt', 'r') as file:\n",
        "    text = file.read().rstrip()"
      ],
      "metadata": {
        "id": "2QSLGJ9tNINj"
      },
      "execution_count": null,
      "outputs": []
    },
    {
      "cell_type": "code",
      "source": [
        "my_parser = PlaintextParser.from_string(text,Tokenizer('english'))"
      ],
      "metadata": {
        "id": "WigdPDfRNEQR"
      },
      "execution_count": null,
      "outputs": []
    },
    {
      "cell_type": "code",
      "source": [
        "lex_rank_summarizer = LexRankSummarizer()\n",
        "lexrank_summary = lex_rank_summarizer(my_parser.document,sentences_count=3)\n",
        "\n",
        "for sentence in lexrank_summary:\n",
        "  print(sentence)"
      ],
      "metadata": {
        "colab": {
          "base_uri": "https://localhost:8080/"
        },
        "id": "zneKQz1eNZSu",
        "outputId": "d9ae1d66-de2b-49d2-ee07-bc50908ef7cf"
      },
      "execution_count": null,
      "outputs": [
        {
          "output_type": "stream",
          "name": "stdout",
          "text": [
            "The buyer is RFR Holding, a New York real estate company.\n",
            "The rent is rising from $7.75 million last year to $32.5 million this year to $41 million in 2028.\n",
            "The Chrysler Building was the headquarters of the American automaker until 1953, but it was named for and owned by Chrysler chief Walter Chrysler, not the company itself.\n"
          ]
        }
      ]
    },
    {
      "cell_type": "markdown",
      "source": [
        "**Text summarization with LexRank for news.txt**\n",
        "\n"
      ],
      "metadata": {
        "id": "tEbKNAeGbLaF"
      }
    },
    {
      "cell_type": "code",
      "source": [
        "from sumy.summarizers.lsa import LsaSummarizer"
      ],
      "metadata": {
        "id": "0UlYLCoQNecJ"
      },
      "execution_count": null,
      "outputs": []
    },
    {
      "cell_type": "code",
      "source": [
        "from sumy.nlp.tokenizers import Tokenizer\n",
        "from sumy.parsers.plaintext import PlaintextParser\n",
        "parser=PlaintextParser.from_string(text,Tokenizer('english'))"
      ],
      "metadata": {
        "id": "yhGdl-HhOGz6"
      },
      "execution_count": null,
      "outputs": []
    },
    {
      "cell_type": "code",
      "source": [
        "lsa_summarizer=LsaSummarizer()\n",
        "lsa_summary= lsa_summarizer(parser.document,3)\n",
        "\n",
        "for sentence in lsa_summary:\n",
        "    print(sentence)"
      ],
      "metadata": {
        "colab": {
          "base_uri": "https://localhost:8080/"
        },
        "id": "jvh4qJ4YOI4w",
        "outputId": "c598e0ca-37ab-4574-afb2-343316250325"
      },
      "execution_count": null,
      "outputs": [
        {
          "output_type": "stream",
          "name": "stdout",
          "text": [
            "Mubadala, an Abu Dhabi investment fund, purchased 90% of the building for $800 million in 2008.\n",
            "Officials with Tishman and RFR did not immediately respond to a request for comments.\n",
            "Still there have been a number of high profile skyscrapers purchased for top dollar in recent years, including the Waldorf Astoria hotel, which Chinese firm Anbang Insurance purchased in 2016 for nearly $2 billion, and the Willis Tower in Chicago, which was formerly known as Sears Tower, once the world's tallest.\n"
          ]
        }
      ]
    },
    {
      "cell_type": "code",
      "source": [],
      "metadata": {
        "id": "D95-p1xqOMMx"
      },
      "execution_count": null,
      "outputs": []
    }
  ]
}